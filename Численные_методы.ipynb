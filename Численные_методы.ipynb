{
  "nbformat": 4,
  "nbformat_minor": 0,
  "metadata": {
    "colab": {
      "provenance": []
    },
    "kernelspec": {
      "name": "python3",
      "display_name": "Python 3"
    },
    "language_info": {
      "name": "python"
    }
  },
  "cells": [
    {
      "cell_type": "markdown",
      "source": [
        "Численные методы"
      ],
      "metadata": {
        "id": "Qb-6Wf5k7jGg"
      }
    },
    {
      "cell_type": "markdown",
      "source": [
        "Практика 1. Вычисление cox(x)"
      ],
      "metadata": {
        "id": "Hknrx0KX7oQv"
      }
    },
    {
      "cell_type": "code",
      "execution_count": 8,
      "metadata": {
        "id": "x9EM-sFB7dsH"
      },
      "outputs": [],
      "source": [
        "import numpy as np\n",
        "\n",
        "def cos_taylor(x, precision):\n",
        "\n",
        "    x = x % (2 * np.pi)\n",
        "\n",
        "    cos_approx = 1.0\n",
        "    term = 1.0\n",
        "    i = 2\n",
        "    while True:\n",
        "        term *= -x*x / (i * (i - 1))\n",
        "        next_term = term\n",
        "        cos_approx += next_term\n",
        "        if abs(next_term) < precision:\n",
        "            break\n",
        "        i += 2\n",
        "    return cos_approx\n"
      ]
    },
    {
      "cell_type": "code",
      "source": [
        "x = 20\n",
        "precision = 1e-10\n",
        "result = cos_taylor(x, precision)\n",
        "print(result)"
      ],
      "metadata": {
        "colab": {
          "base_uri": "https://localhost:8080/"
        },
        "id": "r8tDhXpFBLIf",
        "outputId": "de1abb81-dc3f-4c57-d6c8-76faeda31695"
      },
      "execution_count": 9,
      "outputs": [
        {
          "output_type": "stream",
          "name": "stdout",
          "text": [
            "0.40808206181294326\n"
          ]
        }
      ]
    },
    {
      "cell_type": "markdown",
      "source": [
        "Практика 2. Вычислить 1 и 2 производную"
      ],
      "metadata": {
        "id": "IZwekiei9FDW"
      }
    },
    {
      "cell_type": "markdown",
      "source": [
        "Функция"
      ],
      "metadata": {
        "id": "HoNBjQQN-39f"
      }
    },
    {
      "cell_type": "code",
      "source": [
        "X = [0.0 , 1.0, 2.0, 3.0, 4.0]\n",
        "Y = [0.0, 1.0, 1.4142, 1.7321, 2.0]\n",
        "x_0 = 2.0"
      ],
      "metadata": {
        "id": "qU9LK6H4-9bc"
      },
      "execution_count": null,
      "outputs": []
    },
    {
      "cell_type": "markdown",
      "source": [
        "Левая разность"
      ],
      "metadata": {
        "id": "mvIhpe6f-OEW"
      }
    },
    {
      "cell_type": "code",
      "source": [
        "def diff_left(X, Y, x_0):\n",
        "\n",
        "    index = X.index(x_0)\n",
        "    h = abs(X[index] - X[index - 1])\n",
        "\n",
        "    df = (Y[index] - Y[index - 1]) / h\n",
        "    ddf = (Y[index] - 2*Y[index - 1] + Y[index - 2]) / (h * h)\n",
        "    return (df,ddf)"
      ],
      "metadata": {
        "id": "2abTqfQ7-Nsc"
      },
      "execution_count": null,
      "outputs": []
    },
    {
      "cell_type": "code",
      "source": [
        "diff_left(X, Y, x_0)"
      ],
      "metadata": {
        "colab": {
          "base_uri": "https://localhost:8080/"
        },
        "id": "g2m51TJQ-NDV",
        "outputId": "b05964ec-e63c-48c7-9ae3-5c33d99aff91"
      },
      "execution_count": null,
      "outputs": [
        {
          "output_type": "execute_result",
          "data": {
            "text/plain": [
              "(0.4141999999999999, -0.5858000000000001)"
            ]
          },
          "metadata": {},
          "execution_count": 19
        }
      ]
    },
    {
      "cell_type": "markdown",
      "source": [
        "Правая разность"
      ],
      "metadata": {
        "id": "k0TaJtcJ-eBG"
      }
    },
    {
      "cell_type": "code",
      "source": [
        "def diff_right(X, Y, x_0):\n",
        "\n",
        "    index = X.index(x_0)\n",
        "    h = abs(X[index + 1] - X[index])\n",
        "\n",
        "    df = (Y[index + 1] - Y[index]) / h\n",
        "    ddf = (Y[index + 1] - 2 * Y[index] + Y[index - 1]) / (h * h)\n",
        "\n",
        "    return (df,ddf)"
      ],
      "metadata": {
        "id": "eiBVJvfA-w0d"
      },
      "execution_count": null,
      "outputs": []
    },
    {
      "cell_type": "code",
      "source": [
        "diff_right(X, Y, x_0)"
      ],
      "metadata": {
        "colab": {
          "base_uri": "https://localhost:8080/"
        },
        "id": "wBs9_EoG-wny",
        "outputId": "7dd6aece-309f-4972-b3cf-743524f052ae"
      },
      "execution_count": null,
      "outputs": [
        {
          "output_type": "execute_result",
          "data": {
            "text/plain": [
              "(0.31790000000000007, -0.09629999999999983)"
            ]
          },
          "metadata": {},
          "execution_count": 21
        }
      ]
    },
    {
      "cell_type": "markdown",
      "source": [
        "Центральная разность"
      ],
      "metadata": {
        "id": "S37Nc7zg-nme"
      }
    },
    {
      "cell_type": "code",
      "source": [
        "def diff_center(X, Y, x_0):\n",
        "\n",
        "    index = X.index(x_0)\n",
        "    h = abs(X[index] - X[index + 1])\n",
        "\n",
        "    df = (Y[index - 1] - Y[index + 1]) / (2 * h)\n",
        "    ddf = (Y[index - 1] - Y[index + 1] - Y[index] + Y[index+2]) / (h * h)\n",
        "\n",
        "    return (df,ddf)"
      ],
      "metadata": {
        "id": "p_GDHAUr-gSB"
      },
      "execution_count": null,
      "outputs": []
    },
    {
      "cell_type": "code",
      "source": [
        "diff_center(X, Y, x_0)"
      ],
      "metadata": {
        "colab": {
          "base_uri": "https://localhost:8080/"
        },
        "id": "uxc5qVnW-jnz",
        "outputId": "fa6a26af-9427-4f15-d412-bd274a79cce5"
      },
      "execution_count": null,
      "outputs": [
        {
          "output_type": "execute_result",
          "data": {
            "text/plain": [
              "(-0.36605, -0.1463000000000001)"
            ]
          },
          "metadata": {},
          "execution_count": 23
        }
      ]
    },
    {
      "cell_type": "markdown",
      "source": [
        "Практика 3. Построить интерполяционные полиномы Лагранжа и Ньютона для функции y = f(x). Вычислить значение в точке x*. Построить графики многочленов и график исходной функции."
      ],
      "metadata": {
        "id": "uYdAHUjMIZP0"
      }
    },
    {
      "cell_type": "code",
      "source": [
        "import numpy as np\n",
        "import matplotlib.pyplot as plt"
      ],
      "metadata": {
        "id": "8Zre4TQ0Jq_p"
      },
      "execution_count": 3,
      "outputs": []
    },
    {
      "cell_type": "markdown",
      "source": [
        "Точки"
      ],
      "metadata": {
        "id": "uPtVPJCCKH-T"
      }
    },
    {
      "cell_type": "code",
      "source": [
        "x_points = np.array([0, 1.7, 3.4, 5.1])\n",
        "y_points = np.sqrt(x_points)\n",
        "\n",
        "x_value = 3.0"
      ],
      "metadata": {
        "id": "_BnyW5y_KJc3"
      },
      "execution_count": 4,
      "outputs": []
    },
    {
      "cell_type": "markdown",
      "source": [
        "Функция для вычисления полинома Лагранжа"
      ],
      "metadata": {
        "id": "cjp5N5EMJuFB"
      }
    },
    {
      "cell_type": "code",
      "source": [
        "def lagrange_polynomial(x_points, y_points, x):\n",
        "    n = len(x_points)\n",
        "    result = 0\n",
        "    for i in range(n):\n",
        "        term = y_points[i]\n",
        "        for j in range(n):\n",
        "            if i != j:\n",
        "                term *= (x - x_points[j]) / (x_points[i] - x_points[j])\n",
        "        result += term\n",
        "    return result"
      ],
      "metadata": {
        "id": "07A9kWD_Jxw7"
      },
      "execution_count": 5,
      "outputs": []
    },
    {
      "cell_type": "markdown",
      "source": [
        "Функция для вычисления полинома Ньютона"
      ],
      "metadata": {
        "id": "sBoLYEtBJ1wv"
      }
    },
    {
      "cell_type": "code",
      "source": [
        "# Функция для вычисления конечных разностей\n",
        "def divided_differences(x_points, y_points):\n",
        "    n = len(x_points)\n",
        "    diff_table = np.zeros((n, n))\n",
        "    diff_table[:, 0] = y_points\n",
        "    for j in range(1, n):\n",
        "        for i in range(n - j):\n",
        "            diff_table[i][j] = (diff_table[i+1][j-1] - diff_table[i][j-1]) / (x_points[i+j] - x_points[i])\n",
        "    return diff_table[0, :]\n",
        "\n",
        "# Функция для вычисления полинома Ньютона\n",
        "def newton_polynomial(x_points, y_points, x):\n",
        "    coeffs = divided_differences(x_points, y_points)\n",
        "    n = len(coeffs)\n",
        "    result = coeffs[0]\n",
        "    product_term = 1\n",
        "    for i in range(1, n):\n",
        "        product_term *= (x - x_points[i-1])\n",
        "        result += coeffs[i] * product_term\n",
        "    return result"
      ],
      "metadata": {
        "id": "gqxCwyhXJ5GN"
      },
      "execution_count": 6,
      "outputs": []
    },
    {
      "cell_type": "markdown",
      "source": [
        "Вычисление значений многочленов в точке x*"
      ],
      "metadata": {
        "id": "ahE3YuVqKeIh"
      }
    },
    {
      "cell_type": "code",
      "source": [
        "lagrange_value = lagrange_polynomial(x_points, y_points, x_value)\n",
        "newton_value = newton_polynomial(x_points, y_points, x_value)\n",
        "\n",
        "print(lagrange_value_manual)\n",
        "print(newton_value_manual)\n",
        "print(np.sqrt(3))"
      ],
      "metadata": {
        "colab": {
          "base_uri": "https://localhost:8080/"
        },
        "id": "YiTHkijKJA6j",
        "outputId": "f1b178de-a66b-4ed2-81a8-9d6a08259932"
      },
      "execution_count": 7,
      "outputs": [
        {
          "output_type": "stream",
          "name": "stdout",
          "text": [
            "1.7517775793854795\n",
            "1.751777579385479\n",
            "1.7320508075688772\n"
          ]
        }
      ]
    },
    {
      "cell_type": "markdown",
      "source": [
        "Построение графиков"
      ],
      "metadata": {
        "id": "OXZxgAN7LFsz"
      }
    },
    {
      "cell_type": "code",
      "source": [
        "x_range = np.linspace(0, 6, 100)\n",
        "y_lagrange = [lagrange_polynomial(x_points, y_points, x) for x in x_range]\n",
        "y_newton = [newton_polynomial(x_points, y_points, x) for x in x_range]\n",
        "y_true = np.sqrt(x_range)\n",
        "\n",
        "\n",
        "plt.figure(figsize=(12, 6))\n",
        "\n",
        "# Полином Лагранжа\n",
        "plt.subplot(1, 2, 1)\n",
        "plt.plot(x_range, y_lagrange, label='Полином Лагранжа', color='green')\n",
        "plt.scatter(x_points, y_points, color='red', label='Исходные точки')\n",
        "plt.plot(x_range, y_true, label='y = sqrt(x)', color='orange', linestyle='--')\n",
        "plt.title('Интерполяция Лагранжа')\n",
        "plt.xlabel('x')\n",
        "plt.ylabel('y')\n",
        "plt.axhline(0, color='black',linewidth=0.5, ls='--')\n",
        "plt.axvline(0, color='black',linewidth=0.5, ls='--')\n",
        "plt.grid()\n",
        "plt.legend()\n",
        "\n",
        "# Полином Ньютона\n",
        "plt.subplot(1, 2, 2)\n",
        "plt.plot(x_range, y_newton, label='Полином Ньютона', color='blue')\n",
        "plt.scatter(x_points, y_points, color='red', label='Исходные точки')\n",
        "plt.plot(x_range, y_true, label='y = sqrt(x)', color='orange', linestyle='--')\n",
        "plt.title('Интерполяция Ньютона')\n",
        "plt.xlabel('x')\n",
        "plt.ylabel('y')\n",
        "plt.axhline(0, color='black',linewidth=0.5, ls='--')\n",
        "plt.axvline(0, color='black',linewidth=0.5, ls='--')\n",
        "plt.grid()\n",
        "plt.legend()\n",
        "\n",
        "plt.tight_layout()\n",
        "plt.show()"
      ],
      "metadata": {
        "colab": {
          "base_uri": "https://localhost:8080/",
          "height": 405
        },
        "id": "NLVHPnEzLJ_r",
        "outputId": "e9a8f966-d451-4590-f2fb-be5418fe89e7"
      },
      "execution_count": 11,
      "outputs": [
        {
          "output_type": "display_data",
          "data": {
            "text/plain": [
              "<Figure size 1200x600 with 2 Axes>"
            ],
            "image/png": "[encoded data removed]"
          },
          "metadata": {}
        }
      ]
    }
  ]
}